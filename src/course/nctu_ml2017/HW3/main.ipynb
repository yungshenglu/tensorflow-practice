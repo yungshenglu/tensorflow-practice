{
 "cells": [
  {
   "cell_type": "code",
   "execution_count": 1,
   "metadata": {},
   "outputs": [],
   "source": [
    "import pandas as pd\n",
    "import numpy\n",
    "from sklearn import preprocessing\n",
    "from sklearn.model_selection import train_test_split\n",
    "from sklearn import tree\n",
    "from sklearn import neighbors\n",
    "from sklearn.naive_bayes import MultinomialNB,BernoulliNB,GaussianNB\n",
    "from sklearn.decomposition import PCA\n",
    "from sklearn import metrics\n",
    "import matplotlib.pyplot as plt"
   ]
  },
  {
   "cell_type": "code",
   "execution_count": 2,
   "metadata": {},
   "outputs": [],
   "source": [
    "def readData(filename):\n",
    "    data=[]\n",
    "    with open(filename, \"r\") as f:\n",
    "        for line in f.readlines():\n",
    "            words = line.split(\",\")\n",
    "            words[0] = float(words[0])\n",
    "            words[1] = float(words[1])\n",
    "            words[2] = float(words[2])\n",
    "            words[3] = float(words[3])\n",
    "            words[4] = words[4].replace(\"\\n\",\"\")\n",
    "            data.append(words)\n",
    "    return data\n"
   ]
  },
  {
   "cell_type": "markdown",
   "metadata": {},
   "source": [
    "# Iris"
   ]
  },
  {
   "cell_type": "code",
   "execution_count": 3,
   "metadata": {},
   "outputs": [],
   "source": [
    "iris_data = readData(\"iris.data\")\n",
    "iris_x=[]  #feature\n",
    "iris_y=[]  #target\n",
    "for i in range(len(iris_data)):\n",
    "    iris_x.append(iris_data[i][:4])\n",
    "    iris_y.append(iris_data[i][4])\n",
    "#PCA\n",
    "#pca = PCA(n_components='mle')\n",
    "#new_iris_x = pca.fit_transform(iris_x)\n",
    "#explained_variance = numpy.var(new_iris_x, axis=0)\n",
    "#explained_variance_ratio = explained_variance / numpy.sum(explained_variance)\n",
    "#print(pca.components_)\n",
    "#print(explained_variance)\n",
    "#print(explained_variance_ratio)"
   ]
  },
  {
   "cell_type": "code",
   "execution_count": 4,
   "metadata": {},
   "outputs": [],
   "source": [
    "#split\n",
    "train_x, test_x, train_y, test_y = train_test_split(iris_x, iris_y, test_size=0.3)"
   ]
  },
  {
   "cell_type": "code",
   "execution_count": 5,
   "metadata": {},
   "outputs": [
    {
     "name": "stdout",
     "output_type": "stream",
     "text": [
      "0.9555556\n"
     ]
    }
   ],
   "source": [
    "#Decision Tree\n",
    "decision_tree= tree.DecisionTreeClassifier()\n",
    "iris_decision_tree = decision_tree.fit(train_x, train_y)\n",
    "DT_test_y_predicted = iris_decision_tree.predict(test_x)\n",
    "DT_accuracy = metrics.accuracy_score(test_y, DT_test_y_predicted)\n",
    "print(round(DT_accuracy,7))"
   ]
  },
  {
   "cell_type": "code",
   "execution_count": 6,
   "metadata": {},
   "outputs": [],
   "source": [
    "#KNN\n",
    "accuracies = []\n",
    "for k in range(1,round(0.2*len(train_x))):\n",
    "    knn = neighbors.KNeighborsClassifier(n_neighbors = k)\n",
    "    iris_knn = knn.fit(train_x, train_y)\n",
    "    KNN_test_y_predicted = iris_knn.predict(test_x)\n",
    "    KNN_accuracy = metrics.accuracy_score(test_y, KNN_test_y_predicted)\n",
    "    accuracies.append(KNN_accuracy)"
   ]
  },
  {
   "cell_type": "code",
   "execution_count": 7,
   "metadata": {},
   "outputs": [
    {
     "data": {
      "image/png": "[encoded data removed]",
      "text/plain": [
       "<matplotlib.figure.Figure at 0x7f944d6179e8>"
      ]
     },
     "metadata": {},
     "output_type": "display_data"
    },
    {
     "name": "stdout",
     "output_type": "stream",
     "text": [
      "0.9555556 at k=15\n"
     ]
    }
   ],
   "source": [
    "plt.scatter(range(1,round(0.2*len(train_x))),accuracies)\n",
    "plt.show()\n",
    "(m,i) = max((v,i) for i,v in enumerate(accuracies))\n",
    "print(str(round(m,7)) + \" at k=\" + str(i+1))\n",
    "KNN_accuracy=round(m,7)"
   ]
  },
  {
   "cell_type": "code",
   "execution_count": 8,
   "metadata": {},
   "outputs": [
    {
     "name": "stdout",
     "output_type": "stream",
     "text": [
      "0.977777777778\n"
     ]
    }
   ],
   "source": [
    "#Naive Bayes\n",
    "nb = GaussianNB()\n",
    "iris_nb = nb.fit(train_x, train_y)\n",
    "NB_test_y_predicted = iris_nb.predict(test_x)\n",
    "NB_accuracy = metrics.accuracy_score(test_y, NB_test_y_predicted, normalize=True)\n",
    "print(NB_accuracy)"
   ]
  },
  {
   "cell_type": "code",
   "execution_count": 9,
   "metadata": {},
   "outputs": [
    {
     "name": "stdout",
     "output_type": "stream",
     "text": [
      "DecsionTree = 0.9555556\n",
      "KNN         = 0.9555556\n",
      "NaiveBayes  = 0.9777778\n"
     ]
    }
   ],
   "source": [
    "#Accuarcy\n",
    "print(\"DecsionTree = \" + str(round(DT_accuracy, 7)))\n",
    "print(\"KNN         = \" + str(round(KNN_accuracy,7)))\n",
    "print(\"NaiveBayes  = \" + str(round(NB_accuracy, 7)))"
   ]
  },
  {
   "cell_type": "markdown",
   "metadata": {},
   "source": [
    "# ForestFire"
   ]
  },
  {
   "cell_type": "code",
   "execution_count": 10,
   "metadata": {},
   "outputs": [
    {
     "name": "stdout",
     "output_type": "stream",
     "text": [
      "   X  Y  FFMC   DMC     DC  ISI  temp  RH  wind  rain   ...     month_nov  \\\n",
      "0  7  5  86.2  26.2   94.3  5.1   8.2  51   6.7   0.0   ...             0   \n",
      "1  7  4  90.6  35.4  669.1  6.7  18.0  33   0.9   0.0   ...             0   \n",
      "2  7  4  90.6  43.7  686.9  6.7  14.6  33   1.3   0.0   ...             0   \n",
      "3  8  6  91.7  33.3   77.5  9.0   8.3  97   4.0   0.2   ...             0   \n",
      "4  8  6  89.3  51.3  102.2  9.6  11.4  99   1.8   0.0   ...             0   \n",
      "\n",
      "   month_oct  month_sep  day_fri  day_mon  day_sat  day_sun  day_thu  day_tue  \\\n",
      "0          0          0        1        0        0        0        0        0   \n",
      "1          1          0        0        0        0        0        0        1   \n",
      "2          1          0        0        0        1        0        0        0   \n",
      "3          0          0        1        0        0        0        0        0   \n",
      "4          0          0        0        0        0        1        0        0   \n",
      "\n",
      "   day_wed  \n",
      "0        0  \n",
      "1        0  \n",
      "2        0  \n",
      "3        0  \n",
      "4        0  \n",
      "\n",
      "[5 rows x 30 columns]\n"
     ]
    }
   ],
   "source": [
    "fire_data = pd.read_csv(\"forestfires.csv\")\n",
    "obj_fire_data = fire_data.select_dtypes(include=['object']).copy()\n",
    "dummies_data = pd.get_dummies(obj_fire_data, columns=[\"month\",\"day\"])\n",
    "new_data = pd.concat([fire_data.select_dtypes(exclude=['object']), dummies_data], axis=1)\n",
    "print(new_data.head())"
   ]
  },
  {
   "cell_type": "code",
   "execution_count": 11,
   "metadata": {},
   "outputs": [],
   "source": [
    "#standardlize\n",
    "#for key in new_data.loc[:, new_data.columns != 'area']:\n",
    "#    new_data[key]=preprocessing.scale(new_data[key].astype('float64'))\n",
    "\n",
    "#normalize\n",
    "feature_data = new_data.loc[:, new_data.columns != 'area']\n",
    "nor_data = preprocessing.normalize(feature_data.astype('float64'), norm='l2')\n",
    "\n",
    "# redefine area class\n",
    "for row in new_data.area:\n",
    "    if row < 0.001:\n",
    "        new_data.area.replace({row: 0}, inplace=True)\n",
    "    elif row >= 0.001 and row < 1:\n",
    "        new_data.area.replace({row: 1}, inplace=True)\n",
    "    elif row >= 1 and row < 10:\n",
    "        new_data.area.replace({row: 2}, inplace=True)\n",
    "    elif row >= 10 and row < 100:\n",
    "        new_data.area.replace({row: 3}, inplace=True)\n",
    "    elif row >= 100 and row < 1000:\n",
    "        new_data.area.replace({row: 4}, inplace=True)\n",
    "    elif row >= 1000:\n",
    "        new_data.area.replace({row: 5}, inplace=True)\n",
    "\n",
    "fire_x = nor_data\n",
    "fire_y = new_data.area.astype('int64')"
   ]
  },
  {
   "cell_type": "code",
   "execution_count": 12,
   "metadata": {
    "scrolled": true
   },
   "outputs": [
    {
     "name": "stdout",
     "output_type": "stream",
     "text": [
      "0.0    247\n",
      "2.0    148\n",
      "3.0     84\n",
      "1.0     27\n",
      "4.0     10\n",
      "5.0      1\n",
      "Name: area, dtype: int64\n",
      "0.0    0.478\n",
      "2.0    0.286\n",
      "3.0    0.162\n",
      "1.0    0.052\n",
      "4.0    0.019\n",
      "5.0    0.002\n",
      "Name: area, dtype: float64\n"
     ]
    }
   ],
   "source": [
    "print(new_data.area.value_counts())\n",
    "print(round(new_data.area.value_counts()/len(new_data),3))"
   ]
  },
  {
   "cell_type": "code",
   "execution_count": 13,
   "metadata": {},
   "outputs": [],
   "source": [
    "#PCA\n",
    "\n",
    "#pca = PCA(n_components=3)\n",
    "#new_fire_x = pca.fit_transform(fire_x)\n",
    "#explained_variance = numpy.var(new_fire_x, axis=0)\n",
    "#explained_variance_ratio = explained_variance / numpy.sum(explained_variance)\n",
    "#print(pca.components_)\n",
    "#print(explained_variance)\n",
    "#print(explained_variance_ratio)"
   ]
  },
  {
   "cell_type": "code",
   "execution_count": 20,
   "metadata": {},
   "outputs": [
    {
     "name": "stdout",
     "output_type": "stream",
     "text": [
      "0    164\n",
      "2    109\n",
      "3     62\n",
      "1     18\n",
      "4      7\n",
      "5      1\n",
      "Name: area, dtype: int64\n",
      "0    83\n",
      "2    39\n",
      "3    22\n",
      "1     9\n",
      "4     3\n",
      "Name: area, dtype: int64\n"
     ]
    }
   ],
   "source": [
    "train_x, test_x, train_y, test_y = train_test_split(fire_x, fire_y, test_size=0.3)\n",
    "print(train_y.value_counts())\n",
    "print(test_y.value_counts())"
   ]
  },
  {
   "cell_type": "code",
   "execution_count": 21,
   "metadata": {},
   "outputs": [
    {
     "name": "stdout",
     "output_type": "stream",
     "text": [
      "0.3782051\n"
     ]
    }
   ],
   "source": [
    "#Decision Tree\n",
    "decision_tree= tree.DecisionTreeClassifier()\n",
    "fire_decision_tree = decision_tree.fit(train_x, train_y)\n",
    "DT_test_y_predicted = fire_decision_tree.predict(test_x)\n",
    "DT_accuracy = metrics.accuracy_score(test_y, DT_test_y_predicted)\n",
    "print(round(DT_accuracy,7))"
   ]
  },
  {
   "cell_type": "code",
   "execution_count": 22,
   "metadata": {},
   "outputs": [],
   "source": [
    "#KNN\n",
    "accuracies = []\n",
    "for k in range(1,round(0.2*len(train_x))):\n",
    "    knn = neighbors.KNeighborsClassifier(n_neighbors = k)\n",
    "    fire_knn = knn.fit(train_x, train_y)\n",
    "    KNN_test_y_predicted = fire_knn.predict(test_x)\n",
    "    KNN_accuracy = metrics.accuracy_score(test_y, KNN_test_y_predicted)\n",
    "    accuracies.append(KNN_accuracy)"
   ]
  },
  {
   "cell_type": "code",
   "execution_count": 23,
   "metadata": {},
   "outputs": [
    {
     "data": {
      "image/png": "[encoded data removed]",
      "text/plain": [
       "<matplotlib.figure.Figure at 0x7f944b4d9c88>"
      ]
     },
     "metadata": {},
     "output_type": "display_data"
    },
    {
     "name": "stdout",
     "output_type": "stream",
     "text": [
      "0.5512821 at k=46\n"
     ]
    }
   ],
   "source": [
    "plt.scatter(range(1,round(0.2*len(train_x))),accuracies)\n",
    "plt.show()\n",
    "(m,i) = max((v,i) for i,v in enumerate(accuracies))\n",
    "print(str(round(m,7)) + \" at k=\" + str(i+1))\n",
    "KNN_accuracy=round(m,7)"
   ]
  },
  {
   "cell_type": "code",
   "execution_count": 24,
   "metadata": {},
   "outputs": [
    {
     "name": "stdout",
     "output_type": "stream",
     "text": [
      "0.487179487179\n",
      "0.532051282051\n"
     ]
    }
   ],
   "source": [
    "#Naive Bayes\n",
    "nb = BernoulliNB(alpha=1.0)\n",
    "fire_nb = nb.fit(train_x, train_y)\n",
    "BNB_test_y_predicted = fire_nb.predict(test_x)\n",
    "BNB_accuracy = metrics.accuracy_score(test_y, BNB_test_y_predicted, normalize=True)\n",
    "print(BNB_accuracy)\n",
    "nb = MultinomialNB(alpha=1.0)\n",
    "fire_nb = nb.fit(train_x, train_y)\n",
    "MNB_test_y_predicted = fire_nb.predict(test_x)\n",
    "MNB_accuracy = metrics.accuracy_score(test_y, MNB_test_y_predicted, normalize=True)\n",
    "print(MNB_accuracy)"
   ]
  },
  {
   "cell_type": "code",
   "execution_count": 25,
   "metadata": {},
   "outputs": [
    {
     "name": "stdout",
     "output_type": "stream",
     "text": [
      "DecsionTree = 0.3782051\n",
      "KNN         = 0.5512821\n",
      "BNaiveBayes = 0.4871795\n",
      "MNaiveBayes = 0.5320513\n"
     ]
    }
   ],
   "source": [
    "#Accuarcy\n",
    "print(\"DecsionTree = \" + str(round(DT_accuracy, 7)))\n",
    "print(\"KNN         = \" + str(round(KNN_accuracy,7)))\n",
    "print(\"BNaiveBayes = \" + str(round(BNB_accuracy,7)))\n",
    "print(\"MNaiveBayes = \" + str(round(MNB_accuracy,7)))"
   ]
  }
 ],
 "metadata": {
  "kernelspec": {
   "display_name": "Python 3",
   "language": "python",
   "name": "python3"
  },
  "language_info": {
   "codemirror_mode": {
    "name": "ipython",
    "version": 3
   },
   "file_extension": ".py",
   "mimetype": "text/x-python",
   "name": "python",
   "nbconvert_exporter": "python",
   "pygments_lexer": "ipython3",
   "version": "3.5.2"
  }
 },
 "nbformat": 4,
 "nbformat_minor": 2
}
